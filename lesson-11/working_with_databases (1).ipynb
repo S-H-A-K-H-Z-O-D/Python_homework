{
 "cells": [
  {
   "cell_type": "markdown",
   "metadata": {},
   "source": [
    "<h3 style=\"text-align:center;color:cadetblue;\">Working with databases</h3>"
   ]
  },
  {
   "cell_type": "markdown",
   "metadata": {},
   "source": [
    "1. Working With Databases\n",
    "    - SQLite basics\n",
    "    - Using `with` to Manage Your Database Connection\n",
    "    - Working With Database Tables\n",
    "    - Executing Multiple SQL Statements\n",
    "    - Avoid Security Issues With Parametrized\n",
    "    - Retrieving Data\n",
    "    - Libraries for Working With Other SQL Databases\n",
    "    - Review Exercises"
   ]
  },
  {
   "cell_type": "markdown",
   "metadata": {},
   "source": [
    "<p style=\"text-align:center;color:blue;\"><b>Working With Databases</b></p>"
   ]
  },
  {
   "cell_type": "markdown",
   "metadata": {},
   "source": [
    "A database is a structured system for storing data. It could be made up of several CSV files organized into directories or something more elaborate. A database management system is software that manages access to and interacts with a database.\n",
    "\n",
    "Python comes with a lightweight database management system called `SQLite` that is perfect for learning how to work with databases."
   ]
  },
  {
   "cell_type": "markdown",
   "metadata": {},
   "source": [
    "SQLite uses **structured query language** (SQL) to interact with its database. <u>Some experience with SQL will be helpful when reading this lesson.</u>\n",
    "\n",
    "### An Introduction to SQLite\n",
    "There are numerous SQL database engines, and some are better suited to particular purposes than others. One of the simplest, most lightweight SQL database engines is SQLite, which runs directly on your machine and comes bundled with the standard Python installation."
   ]
  },
  {
   "cell_type": "markdown",
   "metadata": {},
   "source": [
    "### SQLite Basics\n",
    "\n",
    "There are four basic steps to working with SQLite:\n",
    "1. Import the sqlite3 package.\n",
    "2. Connect to an existing database or create a new database.\n",
    "3. Execute SQL statements on the database.\n",
    "4. Close the database connection."
   ]
  },
  {
   "cell_type": "code",
   "execution_count": 1,
   "metadata": {},
   "outputs": [],
   "source": [
    "import sqlite3\n",
    "\n",
    "connection = sqlite3.connect(\"test_database.db\")"
   ]
  },
  {
   "cell_type": "markdown",
   "metadata": {},
   "source": [
    "The `sqlite3.connect()` function is used to connect to or create a database.\n",
    "\n",
    "When you execute `.connect(\"test_database.db\")`, Python searches for an existing database called \"test_database.db\". If no database with that name is found, a new one is created in the current working directory.\n",
    "\n",
    "To create a database in a different directory, you must specify the full path in the argument to `.connect()`."
   ]
  },
  {
   "cell_type": "markdown",
   "metadata": {},
   "source": [
    "You can create an in-memory database by passing the string `\":memory:\"` to `.connect()`: \n",
    "\n",
    "    `connection = sqlite3.connect(\":memory:\")`\n",
    "\n",
    "This is a good way to store data that only needs to exist while a program is running."
   ]
  },
  {
   "cell_type": "markdown",
   "metadata": {},
   "source": [
    "`.connect()` returns a `sqlite3.Connection` object. You can verify this with type():"
   ]
  },
  {
   "cell_type": "code",
   "execution_count": null,
   "metadata": {},
   "outputs": [],
   "source": [
    "type(connection)"
   ]
  },
  {
   "cell_type": "markdown",
   "metadata": {},
   "source": [
    "The Connection object represents the connection between your program and the database. It has several attributes and methods that you can use to interact with the database.\n",
    "\n",
    "To store and retrieve data, you need a Cursor object, which you can\n",
    "obtain with `connection.cursor()`:"
   ]
  },
  {
   "cell_type": "code",
   "execution_count": null,
   "metadata": {},
   "outputs": [],
   "source": [
    "cursor = connection.cursor()\n",
    "type(cursor)"
   ]
  },
  {
   "cell_type": "markdown",
   "metadata": {},
   "source": [
    "The `sqlite3.Cursor` object is your gateway to interacting with the database. Using a Cursor, you can create database tables, execute SQL statements, and fetch query results.\n",
    "\n",
    "In database jargon, the term cursor refers to an object that is used to fetch results from a database query one row at a time.\n",
    "\n",
    "Let’s use the SQLite datetime() function to get the current local time:"
   ]
  },
  {
   "cell_type": "code",
   "execution_count": null,
   "metadata": {},
   "outputs": [],
   "source": [
    "query = \"SELECT datetime('now', 'localtime')\"\n",
    "results = cursor.execute(query)\n",
    "results"
   ]
  },
  {
   "cell_type": "markdown",
   "metadata": {},
   "source": [
    "\"SELECT datetime('now', 'localtime');\" is an SQL statement that returns the current date and time. You assign the query to the `query` variable and pass it to `cursor.execute()`. This runs the query against the database and returns a `Cursor` object, which you assign to the results\n",
    "variable.\n",
    "\n",
    "You might be wondering where the time returned by `datetime()` is. To get the query results, use `results.fetchone()`, which returns a tuple containing the first row of results:\n"
   ]
  },
  {
   "cell_type": "code",
   "execution_count": null,
   "metadata": {},
   "outputs": [],
   "source": [
    "row = results.fetchone()\n",
    "row"
   ]
  },
  {
   "cell_type": "markdown",
   "metadata": {},
   "source": [
    "Since `.fetchone()` returns a tuple, you need to access the first element to get the string containing the date and time information:"
   ]
  },
  {
   "cell_type": "code",
   "execution_count": null,
   "metadata": {},
   "outputs": [],
   "source": [
    "time = row[0]\n",
    "time"
   ]
  },
  {
   "cell_type": "markdown",
   "metadata": {},
   "source": [
    "Finally, call `connection.close()` to close the database connection:\n"
   ]
  },
  {
   "cell_type": "code",
   "execution_count": 7,
   "metadata": {},
   "outputs": [],
   "source": [
    "connection.close()"
   ]
  },
  {
   "cell_type": "markdown",
   "metadata": {},
   "source": [
    "> Note: It’s important to always close database connections when you’re done using them to avoid leaving system resources hanging around after your program stops running."
   ]
  },
  {
   "cell_type": "markdown",
   "metadata": {},
   "source": [
    "### Using `with` to Manage Your Database Connection\n",
    "\n",
    "You can use a `with` statement with `open()` to open a file and then automatically close it once the with block has executed. The same pattern applies to SQLite database connections and is the recommended way to open a database connection.\n",
    "\n",
    "Here’s the `datetime()` example from above using a with statement to\n",
    "manage the database connection:\n"
   ]
  },
  {
   "cell_type": "code",
   "execution_count": null,
   "metadata": {},
   "outputs": [],
   "source": [
    "with sqlite3.connect(\"test_database.db\") as connection:\n",
    "    cursor = connection.cursor()\n",
    "    query = \"SELECT datetime('now', 'localtime');\"\n",
    "    results = cursor.execute(query)\n",
    "    row = results.fetchone()\n",
    "    time = row[0]\n",
    "\n",
    "time"
   ]
  },
  {
   "cell_type": "markdown",
   "metadata": {},
   "source": [
    "In this example, you assign the Connection object returned by `sqlite3.connect()` to the `connection` variable in the with statement. The code in the with block creates a new `Cursor` object using `connection.cursor()` and then gets the current time with the `Cursor` object’s .`execute()` and `.fetchone()` methods.\n",
    "\n",
    "Managing your database connections in a `with` statement has many advantages. The resulting code is often cleaner and shorter than code written without a `with` statement."
   ]
  },
  {
   "cell_type": "markdown",
   "metadata": {},
   "source": [
    "### Working With Database Tables\n",
    "\n",
    "You don’t usually want to create a whole database just to get the current time. Databases are used to store and retrieve information. To store data in a database, you need to create a table and write some values to it.\n",
    "\n",
    "Let’s create a table called People with three columns: FirstName, LastName, and Age. The SQL query to create this table looks like this:\n",
    "\n",
    "```\n",
    "CREATE TABLE People(FirstName TEXT, LastName TEXT, Age INT);\n",
    "```\n",
    "\n",
    "Notice that FirstName and LastName are followed by the word TEXT, whereas Age is followed by the word INT. This tells SQLite that values in the FirstName and LastName columns are text values, while values in the Age column are integers.\n",
    "\n",
    "Once you create the table, you can populate it with data using the INSERT INTO SQL command. The following query inserts the values Ron, Obvious, and 42 in the FirstName, LastName, and Age columns, respectively:\n",
    "\n",
    "```\n",
    "INSERT INTO People VALUES('Ron', 'Obvious', 42);\n",
    "\n",
    "```\n",
    "\n",
    "Note that the strings 'Ron' and 'Obvious' are delimited with single quotation marks. This still makes them valid Python strings, but more importantly, only strings delimited with single quotes are valid SQLite strings.\n",
    "\n",
    "When you write SQL queries as Python strings, you need to make sure that they’re delimited with double quotation marks so that you can use single quotation marks inside them to delimit SQLite strings.\n",
    "\n",
    "SQLite is not the only SQL database management system that follows the single quote convention. Keep an eye out for this whenever you work with any SQL database.\n",
    "\n",
    "Let’s walk through how to execute these statements and save the changes to the database. First, we’ll do it without using a with statement."
   ]
  },
  {
   "cell_type": "code",
   "execution_count": 9,
   "metadata": {},
   "outputs": [],
   "source": [
    "import sqlite3\n",
    "create_table = \"\"\"\n",
    "    CREATE TABLE People(\n",
    "    FirstName TEXT,\n",
    "    LastName TEXT,\n",
    "    Age INT\n",
    "    );\"\"\"\n",
    "insert_values = \"\"\"\n",
    "    INSERT INTO People VALUES(\n",
    "    'Ron',\n",
    "    'Obvious',\n",
    "    42\n",
    "    );\"\"\"\n",
    "connection = sqlite3.connect(\"test_database.db\")\n",
    "cursor = connection.cursor()\n",
    "cursor.execute(create_table)\n",
    "cursor.execute(insert_values)\n",
    "connection.commit()\n",
    "connection.close()"
   ]
  },
  {
   "cell_type": "markdown",
   "metadata": {},
   "source": [
    "First, you create two strings containing SQL statements for creating the People table and inserting some data into it. You assign these strings to the create_table and insert_values variables.\n",
    "\n",
    "You write both SQL statements using triple-quoted strings so you can format the SQL nicely. SQL ignores whitespace, so you can use spacing in the string to improve the readability of your Python code.\n",
    "\n",
    "Then you create a Connection object with sqlite3.connect() and assign it to the connection variable. You also create a Cursor object with connection.cursor() and use it to execute the two SQL statements."
   ]
  },
  {
   "cell_type": "code",
   "execution_count": null,
   "metadata": {},
   "outputs": [],
   "source": [
    "connection = sqlite3.connect(\"test_database.db\")\n",
    "cursor = connection.cursor()\n",
    "query = \"SELECT * FROM People;\"\n",
    "results = cursor.execute(query)\n",
    "results.fetchone()"
   ]
  },
  {
   "cell_type": "markdown",
   "metadata": {},
   "source": [
    "Now let’s rewrite the program using a with statement to manage the database connection.\n",
    "\n",
    "Before you can do anything, though, you need to delete the People table so that you can re-create it. Type the following code into the interactive window to remove the People table from the database:"
   ]
  },
  {
   "cell_type": "code",
   "execution_count": null,
   "metadata": {},
   "outputs": [],
   "source": [
    "cursor.execute(\"DROP TABLE People;\")"
   ]
  },
  {
   "cell_type": "code",
   "execution_count": 12,
   "metadata": {},
   "outputs": [],
   "source": [
    "connection.commit()\n",
    "connection.close()"
   ]
  },
  {
   "cell_type": "markdown",
   "metadata": {},
   "source": [
    "Change the program as follows:"
   ]
  },
  {
   "cell_type": "code",
   "execution_count": 13,
   "metadata": {},
   "outputs": [],
   "source": [
    "import sqlite3\n",
    "\n",
    "create_table = \"\"\"\n",
    "    CREATE TABLE People(\n",
    "    FirstName TEXT,\n",
    "    LastName TEXT,\n",
    "    Age INT\n",
    "    );\"\"\"\n",
    "\n",
    "insert_values = \"\"\"\n",
    "    INSERT INTO People VALUES(\n",
    "    'Ron',\n",
    "    'Obvious',\n",
    "    42\n",
    "    );\"\"\"\n",
    "\n",
    "with sqlite3.connect(\"test_database.db\") as connection:\n",
    "    cursor = connection.cursor()\n",
    "    cursor.execute(create_table)\n",
    "    cursor.execute(insert_values)"
   ]
  },
  {
   "cell_type": "markdown",
   "metadata": {},
   "source": [
    "Neither connection.close() nor connection.commit() is needed. Any changes you make to the database will be automatically committed when the with block is done executing. This is another advantage of using a with statement to manage your database connection."
   ]
  },
  {
   "cell_type": "markdown",
   "metadata": {},
   "source": [
    "### Executing Multiple SQL Statements\n",
    "\n",
    "An SQL script is a collection of SQL statements separated by semicolons (;) that can be run all at the same time. Cursor objects have an .executescript() method for executing SQL scripts.\n",
    "\n",
    "The following program executes an SQL script that creates a People table and inserts some values into it:"
   ]
  },
  {
   "cell_type": "code",
   "execution_count": 14,
   "metadata": {},
   "outputs": [],
   "source": [
    "import sqlite3\n",
    "\n",
    "sql = \"\"\"\n",
    "DROP TABLE IF EXISTS People;\n",
    "CREATE TABLE People(\n",
    "    FirstName TEXT,\n",
    "    LastName TEXT,\n",
    "    Age INT\n",
    "    );\n",
    "INSERT INTO People VALUES(\n",
    "    'Ron',\n",
    "    'Obvious',\n",
    "    '42'\n",
    "    );\"\"\"\n",
    "with sqlite3.connect(\"test_database.db\") as connection:\n",
    "    cursor = connection.cursor()\n",
    "    cursor.executescript(sql)"
   ]
  },
  {
   "cell_type": "markdown",
   "metadata": {},
   "source": [
    "You can also execute many similar statements by using the `.executemany()` method and supplying a tuple of tuples in which each inner tuple supplies the information for a single command.\n",
    "\n",
    "For instance, if you have a lot of people’s information to insert into your People table, you can save this information in the following tuple of tuples:\n"
   ]
  },
  {
   "cell_type": "code",
   "execution_count": 15,
   "metadata": {},
   "outputs": [],
   "source": [
    "people_values = (\n",
    "(\"Ron\", \"Obvious\", 42),\n",
    "(\"Luigi\", \"Vercotti\", 43),\n",
    "(\"Arthur\", \"Belling\", 28)\n",
    ")"
   ]
  },
  {
   "cell_type": "code",
   "execution_count": null,
   "metadata": {},
   "outputs": [],
   "source": [
    "cursor.executemany(\"INSERT INTO People VALUES(?, ?, ?)\", people_values)"
   ]
  },
  {
   "cell_type": "code",
   "execution_count": 17,
   "metadata": {},
   "outputs": [],
   "source": [
    "connection.commit()"
   ]
  },
  {
   "cell_type": "markdown",
   "metadata": {},
   "source": [
    "You can then insert all these people at once in a single line of code:\n",
    "\n",
    "```\n",
    "cursor.executemany(\"INSERT INTO People VALUES(?, ?, ?)\", people_values)\n",
    "```\n",
    "\n",
    "Here, the question marks act as placeholders for the tuples contained in people_values. This is called a parameterized statement.\n",
    "\n",
    "Each ? represents a parameter that gets replaced by a value from people_values when the method is executed. The parameters are replaced in order. That is, the first ? is replaced by the first value in people_values, the second ? is replaced by the second value, and so on.\n"
   ]
  },
  {
   "cell_type": "markdown",
   "metadata": {},
   "source": [
    "### Avoid Security Issues With Parametrized \n",
    "\n",
    "For security reasons, especially when you need to interact with an SQL table based on user input, you should always use parameterized SQL statements. This is because the user could potentially supply a value that looks like SQL code and causes your SQL statement to behave in unexpected ways. This is called an **SQL injection attack** and, even if you aren’t dealing with a malicious user, it can happen entirely by accident.\n",
    "\n",
    "For example, suppose you want to insert a person into the People table based on user-supplied information. You might initially try something like the following:"
   ]
  },
  {
   "cell_type": "code",
   "execution_count": 18,
   "metadata": {},
   "outputs": [],
   "source": [
    "import sqlite3\n",
    "# Get person data from user\n",
    "first_name = input(\"Enter your first name: \")\n",
    "last_name = input(\"Enter your last name: \")\n",
    "age = int(input(\"Enter your age: \"))\n",
    "# Execute insert statement for supplied person data\n",
    "query = (\n",
    "    \"INSERT INTO People Values\"\n",
    "    f\"('{first_name}', '{last_name}', {age});\"\n",
    ")\n",
    "with sqlite3.connect(\"test_database.db\") as connection:\n",
    "    cursor = connection.cursor()\n",
    "    cursor.execute(query)\n"
   ]
  },
  {
   "cell_type": "markdown",
   "metadata": {},
   "source": [
    "What if the user’s name includes an apostrophe? Try adding Flannery O’Connor to the table, and you’ll see that she breaks the code. This is because the apostrophe gets mixed up with the single quotes in the line, making it appear that the SQL code ends earlier than you intend.\n",
    "\n",
    "In this case, the code only causes an error, which is bad enough. In some cases, though, bad input can corrupt an entire table. Many other hard-to-predict cases can break SQL tables and even delete portions of your database. To avoid this, you should always use parameterized\n",
    "statements.\n",
    "\n",
    "The following code uses a parametrized statement to safely insert the user input into the database:\n"
   ]
  },
  {
   "cell_type": "code",
   "execution_count": null,
   "metadata": {},
   "outputs": [],
   "source": [
    "import sqlite3\n",
    "first_name = input(\"Enter your first name: \")\n",
    "last_name = input(\"Enter your last name: \")\n",
    "age = int(input(\"Enter your age: \"))\n",
    "data = (first_name, last_name, age)\n",
    "with sqlite3.connect(\"test_database.db\") as connection:\n",
    "    cursor = connection.cursor()\n",
    "    cursor.execute(\"INSERT INTO People VALUES(?, ?, ?);\", data)"
   ]
  },
  {
   "cell_type": "markdown",
   "metadata": {},
   "source": [
    "Parametrization is also useful for updating a row in the database with an SQL UPDATE statement:\n",
    "\n",
    "```\n",
    "cursor.execute(\n",
    "    \"UPDATE People SET Age=? WHERE FirstName=? AND LastName=?;\",\n",
    "    (45, 'Luigi', 'Vercotti')\n",
    "    )\n",
    "\n",
    "```\n",
    "\n",
    "This code updates the value of the Age column to 45 for the row in which FirstName is set to 'Luigi' and LastName is set to 'Vercotti'."
   ]
  },
  {
   "cell_type": "markdown",
   "metadata": {},
   "source": [
    "### Retrieving Data\n",
    "\n",
    "Inserting and updating information in a database isn’t all that helpful if you can’t fetch that information from the database.\n",
    "\n",
    "To fetch data from a database, you can use the `.fetchone()` and `.fetchall()` cursor methods. The `.fetchone()` method returns a single row from query results, while `.fetchall()` retrieves all the results of a query at once.\n",
    "\n",
    "The following program illustrates how to use `.fetchall()`:"
   ]
  },
  {
   "cell_type": "code",
   "execution_count": null,
   "metadata": {},
   "outputs": [],
   "source": [
    "import sqlite3\n",
    "values = (\n",
    "    (\"Ron\", \"Obvious\", 42),\n",
    "    (\"Luigi\", \"Vercotti\", 43),\n",
    "    (\"Arthur\", \"Belling\", 28),\n",
    ")\n",
    "with sqlite3.connect(\"test_database.db\") as connection:\n",
    "    cursor = connection.cursor()\n",
    "    cursor.execute(\"DROP TABLE IF EXISTS People\")\n",
    "    cursor.execute(\"\"\"\n",
    "        CREATE TABLE People(\n",
    "        FirstName TEXT,\n",
    "        LastName TEXT,\n",
    "        Age INT\n",
    "        );\"\"\"\n",
    "    )\n",
    "cursor.executemany(\"INSERT INTO People VALUES(?, ?, ?);\", values)\n",
    "# Select all first and last names from people over age 30\n",
    "cursor.execute(\n",
    "\"SELECT FirstName, LastName FROM People WHERE Age > 30;\"\n",
    ")\n",
    "for row in cursor.fetchall():\n",
    "    print(row)\n"
   ]
  },
  {
   "cell_type": "markdown",
   "metadata": {},
   "source": [
    "In the above program, you first drop the People table to destroy the changes made in the previous examples in this section. Then you re-create the People table and insert several values into it. Next, you `.execute()` a SELECT statement that returns the first and last names of all people over age 30.\n",
    "\n",
    "Finally, `.fetchall()` returns the results of your query as a list of tuples in which each tuple contains a single row from the query results.\n",
    "\n",
    "If you type the program into a new editor window and save and run the file, then you’ll see the following output displayed in the interactive window:\n",
    "```\n",
    "('Ron', 'Obvious')\n",
    "('Luigi', 'Vercotti')\n",
    "```\n",
    "Indeed, Ron and Luigi are the only people in the database who are over thirty years old."
   ]
  },
  {
   "cell_type": "markdown",
   "metadata": {},
   "source": [
    "### Libraries for Working With Other SQL Databases\n",
    "\n",
    "If you have a particular type of SQL database that you’d like to access through Python, most of the basic syntax is likely to be identical to what you just learned for SQLite. However, you’ll need to install an additional package to interact with your database since SQLite is the\n",
    "only built-in option.\n",
    "\n",
    "Many SQL variants and corresponding Python packages are available. Here are a few of the most commonly used and reliable open source alternatives to SQLite:\n",
    "-  `pyodbc` connects to ODBC (Open Database Connectivity) databases, such as Microsoft SQL Server.\n",
    "-  `psycopg2` connects to PostgreSQL databases.\n",
    "- `PyMySQL` connects to MySQL databases.\n",
    "\n",
    "One difference between SQLite and other database engines—besides the actual syntax of the SQL code, which changes slightly with most flavors of SQL—is that most database engines require a username and a password to connect. Check the documentation for the particular package you want to use to get the proper syntax for making a database connection.\n",
    "\n",
    "The `SQLAlchemy` package is another popular option for working with databases. SQLAlchemy is an object-relational mapper, or ORM, that uses an object-oriented paradigm to build database queries. It can be configured to connect to a variety of databases. The object-oriented approach allows you to make queries without writing raw SQL statements."
   ]
  }
 ],
 "metadata": {
  "kernelspec": {
   "display_name": "Python 3",
   "language": "python",
   "name": "python3"
  },
  "language_info": {
   "codemirror_mode": {
    "name": "ipython",
    "version": 3
   },
   "file_extension": ".py",
   "mimetype": "text/x-python",
   "name": "python",
   "nbconvert_exporter": "python",
   "pygments_lexer": "ipython3",
   "version": "3.10.11"
  }
 },
 "nbformat": 4,
 "nbformat_minor": 2
}
