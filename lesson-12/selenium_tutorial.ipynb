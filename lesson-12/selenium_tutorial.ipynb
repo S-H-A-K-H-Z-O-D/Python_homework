{
 "cells": [
  {
   "cell_type": "markdown",
   "metadata": {},
   "source": [
    "**Introduction to Selenium**\n",
    "\n",
    "Selenium is a widely used open-source framework for automating web browsers. It allows developers and testers to create scripts in multiple programming languages like Python, Java, C#, Ruby, and JavaScript to control and test web applications across different browsers."
   ]
  },
  {
   "cell_type": "markdown",
   "metadata": {},
   "source": [
    "**Setting Up the Selenium Environment**\n",
    "\n",
    "To start automating web browsers with Selenium in Python, you need to set up the environment. Follow these steps to get started:\n",
    "\n",
    "**Install Selenium**\n",
    "Use `pip` (Python's package manager) to install Selenium:\n",
    "```bash\n",
    "pip install selenium\n",
    "```\n",
    "\n",
    "**Download and Set Up a Browser Driver**\n",
    "Selenium communicates with browsers via drivers. You must download the correct driver for your browser and version.\n",
    "\n",
    "1. **Chrome**: Download ChromeDriver from [Chromedriver Downloads](https://chromedriver.chromium.org/downloads).\n",
    "2. **Firefox**: Download GeckoDriver from [GeckoDriver Releases](https://github.com/mozilla/geckodriver/releases).\n",
    "3. **Edge**: Download EdgeDriver from [Microsoft Edge WebDriver](https://developer.microsoft.com/en-us/microsoft-edge/tools/webdriver/).\n",
    "\n",
    "   Place the driver in a directory that is included in your system's PATH, or specify the full path to the driver when creating a WebDriver instance."
   ]
  },
  {
   "cell_type": "code",
   "execution_count": 3,
   "metadata": {},
   "outputs": [
    {
     "name": "stdout",
     "output_type": "stream",
     "text": [
      "Page title is: Example Domain\n"
     ]
    }
   ],
   "source": [
    "from selenium import webdriver\n",
    "from selenium.webdriver.chrome.options import Options\n",
    "import time\n",
    "\n",
    "chrome_options = Options()\n",
    "chrome_options.add_argument(\"--window-position=-1700,-200\")  # Position window on the second screen\n",
    "\n",
    "# Set up the WebDriver (use the path to your driver if not in PATH)\n",
    "driver = webdriver.Chrome(chrome_options)  # For Firefox, use webdriver.Firefox()\n",
    "\n",
    "# Open a website\n",
    "driver.get(\"https://example.com\")\n",
    "\n",
    "# import requests\n",
    "# res = requests.get('https://example.com')\n",
    "\n",
    "# Print the page title\n",
    "print(\"Page title is:\", driver.title)\n",
    "\n",
    "time.sleep(5)\n",
    "# Close the browser\n",
    "driver.quit()"
   ]
  },
  {
   "cell_type": "code",
   "execution_count": null,
   "metadata": {},
   "outputs": [
    {
     "name": "stdout",
     "output_type": "stream",
     "text": [
      "Headless mode page title: Example Domain\n"
     ]
    }
   ],
   "source": [
    "from selenium.webdriver.chrome.options import Options\n",
    "\n",
    "chrome_options = Options()\n",
    "# chrome_options.add_argument(\"--headless\")  # Run browser in headless mode\n",
    "chrome_options.add_argument(\"--disable-popup-blocking\")\n",
    "chrome_options.add_argument(\"--window-position=-1700,-200\")\n",
    "\n",
    "# Browser will remain open after the script ends\n",
    "chrome_options.add_experimental_option(\"detach\", True)\n",
    "\n",
    "driver = webdriver.Chrome(options=chrome_options)\n",
    "driver.get(\"https://example.com\")\n",
    "print(\"Headless mode page title:\", driver.title)\n",
    "driver.quit()"
   ]
  },
  {
   "cell_type": "markdown",
   "metadata": {},
   "source": [
    "**Troubleshooting Common Issues**\n",
    "- **Driver Not Found**: Ensure the browser driver is in PATH or specify the full path when initializing `webdriver.Chrome()` or `webdriver.Firefox()`.\n",
    "- **Version Mismatch**: Use a browser driver version compatible with your browser version."
   ]
  },
  {
   "cell_type": "markdown",
   "metadata": {},
   "source": [
    "**Locating Web Elements**\n",
    "\n",
    "Web elements like buttons, input fields, links, and dropdowns are the building blocks of a web page. To interact with them using Selenium, you must locate these elements on the page. Selenium provides several locator strategies for this purpose.\n",
    "\n",
    "**Common Locator Strategies**\n",
    "1. **ID**\n",
    "2. **Name**\n",
    "3. **Class Name**\n",
    "4. **Tag Name**\n",
    "5. **CSS Selector**\n",
    "6. **XPath**"
   ]
  },
  {
   "cell_type": "markdown",
   "metadata": {},
   "source": [
    "**1. Locate by ID**\n",
    "The `id` attribute is often unique to an element, making it a reliable locator.\n",
    "\n",
    "Example:"
   ]
  },
  {
   "cell_type": "code",
   "execution_count": 6,
   "metadata": {},
   "outputs": [],
   "source": [
    "from selenium import webdriver\n",
    "from selenium.webdriver.common.by import By\n",
    "\n",
    "driver = webdriver.Chrome()\n",
    "driver.get(\"https://www.w3schools.com/\")\n",
    "search_box = driver.find_element(by=By.ID, value=\"tnb-google-search-input\")\n",
    "search_box.send_keys(\"DEMO\")\n",
    "\n",
    "import time\n",
    "time.sleep(10)\n",
    "\n",
    "driver.quit()"
   ]
  },
  {
   "cell_type": "markdown",
   "metadata": {},
   "source": [
    "**2. Locate by Name**\n",
    "The `name` attribute is commonly used in form fields.\n",
    "\n",
    "---\n",
    "\n",
    "```python\n",
    "element = driver.find_element(By.NAME, \"element_name\")\n",
    "```\n",
    "---\n",
    "\n",
    "**3. Locate by Class Name**\n",
    "If elements share a class, you can use `find_element` for a single match or `find_elements` for multiple matches.\n",
    "\n",
    "---\n",
    "\n",
    "```python\n",
    "element = driver.find_element(By.CLASS_NAME, \"element_class\")\n",
    "elements = driver.find_elements(By.CLASS_NAME, \"common_class\")\n",
    "```\n",
    "---\n",
    "\n",
    "**4. Locate by Tag Name**\n",
    "Locate elements using their HTML tags, such as `<a>`, `<button>`, or `<input>`.\n",
    "\n",
    "---\n",
    "\n",
    "```python\n",
    "elements = driver.find_elements(By.TAG_NAME, \"a\")\n",
    "```\n",
    "---\n",
    "\n",
    "**5. Locate by CSS Selector**\n",
    "CSS Selectors offer a powerful way to locate elements using CSS rules.\n",
    "\n",
    "---\n",
    "\n",
    "```python\n",
    "element = driver.find_element(By.CSS_SELECTOR, \"div.container > a\")\n",
    "```\n",
    "---\n",
    "\n",
    "**6. Locate by XPath**\n",
    "XPath allows you to navigate through the DOM structure of a webpage. It is highly flexible but can be slower than other locators.\n",
    "\n",
    "---\n",
    "\n",
    "```python\n",
    "element = driver.find_element(By.XPATH, \"//div[@id='element_id']\")\n",
    "```\n",
    "---"
   ]
  },
  {
   "cell_type": "markdown",
   "metadata": {},
   "source": [
    "**Working with Multiple Elements**\n",
    "\n",
    "To locate multiple elements that match a locator strategy, use `find_elements` instead of `find_element`. This returns a list of matching elements.\n",
    "\n",
    "---\n",
    "```python\n",
    "elements = driver.find_elements(By.CLASS_NAME, \"common_class\")\n",
    "for element in elements:\n",
    "    print(element.text)\n",
    "```\n",
    "---"
   ]
  },
  {
   "cell_type": "markdown",
   "metadata": {},
   "source": [
    "**Locator Priority Best Practices**\n",
    "1. **Prefer ID or Name**: These are faster and often unique.\n",
    "2. **Use CSS Selectors**: Preferred for complex hierarchical matches.\n",
    "3. **Reserve XPath for Advanced Scenarios**: Useful when other locators aren’t applicable."
   ]
  },
  {
   "cell_type": "markdown",
   "metadata": {},
   "source": [
    "**Writing in Input Fields, Pressing Enter, and Clicking Buttons in Selenium**\n",
    "\n",
    "Selenium provides a set of methods to interact with web elements, such as writing text in input fields, simulating the \"Enter\" key, and clicking buttons.\n",
    "\n",
    "**1. Writing in Input Fields**\n",
    "\n",
    "To write text in an input field, Selenium provides the `send_keys()` method.\n",
    "\n",
    "**Basic Syntax**\n",
    "```python\n",
    "element.send_keys(\"text to input\")\n",
    "```\n",
    "\n",
    "**Example**"
   ]
  },
  {
   "cell_type": "code",
   "execution_count": 9,
   "metadata": {},
   "outputs": [],
   "source": [
    "from selenium import webdriver\n",
    "from selenium.webdriver.common.by import By\n",
    "from selenium.webdriver.common.keys import Keys\n",
    "\n",
    "chrome_options = Options()\n",
    "# chrome_options.add_argument(\"--headless\")  # Run browser in headless mode\n",
    "chrome_options.add_argument(\"--disable-popup-blocking\")\n",
    "chrome_options.add_argument(\"--window-position=-1700,-200\")\n",
    "\n",
    "driver = webdriver.Chrome(chrome_options)\n",
    "driver.get(\"https://www.google.com/\")\n",
    "\n",
    "input_field = driver.find_element(By.NAME, \"q\")\n",
    "\n",
    "input_field.send_keys(\"python tutorial\" + Keys.ENTER)\n",
    "\n",
    "time.sleep(10)\n",
    "# driver.page_source\n",
    "driver.quit()"
   ]
  },
  {
   "cell_type": "markdown",
   "metadata": {},
   "source": [
    "**Clearing Text Before Typing**\n",
    "If the input field already has text, you may want to clear it before entering new text using the `clear()` method:\n",
    "```python\n",
    "input_field.clear()\n",
    "input_field.send_keys(\"new text\")\n",
    "```\n",
    "\n",
    "**2. Pressing Enter in Input Fields**\n",
    "\n",
    "You can simulate pressing the \"Enter\" key after typing in an input field using the `Keys` class.\n",
    "\n",
    "**Steps**\n",
    "1. Import `Keys` from `selenium.webdriver.common.keys`.\n",
    "2. Use `send_keys(Keys.RETURN)` or `send_keys(Keys.ENTER)`.\n",
    "\n",
    "**Example**"
   ]
  },
  {
   "cell_type": "code",
   "execution_count": null,
   "metadata": {},
   "outputs": [],
   "source": [
    "from selenium import webdriver\n",
    "from selenium.webdriver.common.by import By\n",
    "from selenium.webdriver.common.keys import Keys\n",
    "\n",
    "driver = webdriver.Chrome()\n",
    "driver.get(\"https://www.google.com/\")\n",
    "\n",
    "input_field = driver.find_element(By.ID, \"APjFqb\")\n",
    "input_field.send_keys(\"python tutorial\")\n",
    "input_field.send_keys(Keys.RETURN)\n",
    "\n",
    "driver.quit()"
   ]
  },
  {
   "cell_type": "code",
   "execution_count": null,
   "metadata": {},
   "outputs": [],
   "source": []
  },
  {
   "cell_type": "markdown",
   "metadata": {},
   "source": [
    "**3. Clicking Buttons**\n",
    "\n",
    "To click a button, Selenium provides the `click()` method.\n",
    "\n",
    "**Basic Syntax**\n",
    "```python\n",
    "element.click()\n",
    "```\n",
    "\n",
    "**Example**"
   ]
  },
  {
   "cell_type": "code",
   "execution_count": 18,
   "metadata": {},
   "outputs": [],
   "source": [
    "from selenium import webdriver\n",
    "from selenium.webdriver.common.by import By\n",
    "\n",
    "driver = webdriver.Chrome()\n",
    "driver.get(\"https://www.youtube.com/\")\n",
    "\n",
    "search_input = driver.find_element(By.NAME, 'search_query')\n",
    "search_input.send_keys(\"Machine Learning\")\n",
    "\n",
    "button = driver.find_element(By.CSS_SELECTOR, 'button[title=\"Search\"]')\n",
    "button.click()\n",
    "\n",
    "driver.quit()"
   ]
  }
 ],
 "metadata": {
  "kernelspec": {
   "display_name": "Python 3",
   "language": "python",
   "name": "python3"
  },
  "language_info": {
   "codemirror_mode": {
    "name": "ipython",
    "version": 3
   },
   "file_extension": ".py",
   "mimetype": "text/x-python",
   "name": "python",
   "nbconvert_exporter": "python",
   "pygments_lexer": "ipython3",
   "version": "3.10.11"
  }
 },
 "nbformat": 4,
 "nbformat_minor": 2
}
